{
 "cells": [
  {
   "cell_type": "code",
   "execution_count": 3,
   "metadata": {},
   "outputs": [],
   "source": [
    "import numpy as np"
   ]
  },
  {
   "cell_type": "code",
   "execution_count": 4,
   "metadata": {},
   "outputs": [],
   "source": [
    "def create_card_deck():\n",
    "    values = np.arange(1, 14)\n",
    "    suites = np.arange(1, 5)\n",
    "    deck = [[s, v] for s in suites for v in values]\n",
    "    deck = np.asarray(deck)\n",
    "    deck = deck.reshape((4, 13, 2))\n",
    "    return deck"
   ]
  },
  {
   "cell_type": "code",
   "execution_count": 5,
   "metadata": {},
   "outputs": [],
   "source": [
    "def serve_cards(player=2, cards=5):\n",
    "    card_list = np.arange(0, cards)  # to remove number of cards after serving to player\n",
    "    deck = create_card_deck()\n",
    "    deck = deck.reshape((52, 2))\n",
    "    np.random.shuffle(deck)\n",
    "    players = {}\n",
    "    served_deck = {}\n",
    "    for p in range(player):\n",
    "        players[p+1] = deck[:cards]\n",
    "        deck = np.delete(deck, card_list, axis=0)\n",
    "    served_deck['players'] = players\n",
    "    served_deck['joker'] = deck[:1]\n",
    "    deck = np.delete(deck, 0, axis=0)\n",
    "    served_deck['deck'] = deck\n",
    "    return served_deck"
   ]
  },
  {
   "cell_type": "code",
   "execution_count": 6,
   "metadata": {},
   "outputs": [],
   "source": [
    "def check_cards(cards, jokers):\n",
    "    card = cards[:, 1]\n",
    "    joker = jokers[:, 1]\n",
    "\n",
    "    # card = np.array([1, 2, 4, 4, 3, 13])\n",
    "    # joker = np.array([13])\n",
    "\n",
    "    no_of_cards = len(card)  # 5 , 7 ?\n",
    "\n",
    "    joker_count = len(np.where(card == joker)[0])  # How many joker you got?\n",
    "\n",
    "    card = np.delete(card, np.where(card == joker)[0])  # Cards removing Joker.\n",
    "    pairs = 0  # Lots of bullshit to find pair.\n",
    "    thrice = 0\n",
    "    for c in card:\n",
    "        is_pair = np.where(card == c)[0]\n",
    "        if len(is_pair) == 2:\n",
    "            pairs += 1\n",
    "        if len(is_pair) == 3:\n",
    "            thrice += 1\n",
    "        if len(is_pair) == 4:\n",
    "            pairs += 1\n",
    "\n",
    "    pair = int(pairs / 2 + thrice / 3)  # To here.\n",
    "    if (joker_count + pair)*2 == no_of_cards:  # Game finished condition.\n",
    "        return 0\n",
    "    return 1"
   ]
  },
  {
   "cell_type": "code",
   "execution_count": 15,
   "metadata": {},
   "outputs": [
    {
     "name": "stdout",
     "output_type": "stream",
     "text": [
      "[[ 1  5]\n",
      " [ 2  1]\n",
      " [ 2 13]\n",
      " [ 2  9]\n",
      " [ 1 10]] [[2 2]]\n"
     ]
    }
   ],
   "source": [
    "\n",
    "def play_game():\n",
    "    served = serve_cards()\n",
    "    deck = served['deck']\n",
    "    players = served['players']\n",
    "    joker = served['joker']\n",
    "    print(players[1], joker)\n",
    "\n",
    "play_game()"
   ]
  },
  {
   "cell_type": "code",
   "execution_count": 11,
   "metadata": {},
   "outputs": [],
   "source": []
  },
  {
   "cell_type": "code",
   "execution_count": null,
   "metadata": {},
   "outputs": [],
   "source": []
  }
 ],
 "metadata": {
  "kernelspec": {
   "display_name": "Python 3",
   "language": "python",
   "name": "python3"
  },
  "language_info": {
   "codemirror_mode": {
    "name": "ipython",
    "version": 3
   },
   "file_extension": ".py",
   "mimetype": "text/x-python",
   "name": "python",
   "nbconvert_exporter": "python",
   "pygments_lexer": "ipython3",
   "version": "3.6.6"
  }
 },
 "nbformat": 4,
 "nbformat_minor": 2
}
